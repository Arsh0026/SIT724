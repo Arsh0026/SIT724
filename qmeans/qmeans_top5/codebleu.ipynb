{
 "cells": [
  {
   "cell_type": "code",
   "execution_count": 366,
   "metadata": {},
   "outputs": [],
   "source": [
    "import numpy as np\n",
    "import pandas as pd\n",
    "import editdistance\n",
    "import itertools\n",
    "import matplotlib.pyplot as plt\n",
    "from codebleu import calc_codebleu\n",
    "from radon.complexity import cc_rank, cc_visit\n",
    "import radon.metrics as radon"
   ]
  },
  {
   "cell_type": "code",
   "execution_count": 367,
   "metadata": {},
   "outputs": [],
   "source": [
    "file1 = \"/Users/arsh/OneDrive - Deakin University/UNI/2023/T2/SIT723/code/copilot/Final_code/code_files/qmeans/qmeans_top5/cide1.py\"\n",
    "file2 = \"/Users/arsh/OneDrive - Deakin University/UNI/2023/T2/SIT723/code/copilot/Final_code/code_files/qmeans/qmeans_top5/code2.py\"\n",
    "file3 = \"/Users/arsh/OneDrive - Deakin University/UNI/2023/T2/SIT723/code/copilot/Final_code/code_files/qmeans/qmeans_top5/code3.py\"\n",
    "file4 = \"/Users/arsh/OneDrive - Deakin University/UNI/2023/T2/SIT723/code/copilot/Final_code/code_files/qmeans/qmeans_top5/code4.py\"\n",
    "file5 = \"/Users/arsh/OneDrive - Deakin University/UNI/2023/T2/SIT723/code/copilot/Final_code/code_files/qmeans/qmeans_top5/code5.py\"\n",
    "file6 = \"/Users/arsh/OneDrive - Deakin University/UNI/2023/T2/SIT723/code/copilot/Final_code/code_files/qmeans/qmeans_top10/code6.py\"\n",
    "file7 = \"/Users/arsh/OneDrive - Deakin University/UNI/2023/T2/SIT723/code/copilot/Final_code/code_files/qmeans/qmeans_top10/code7.py\"\n",
    "file8 = \"/Users/arsh/OneDrive - Deakin University/UNI/2023/T2/SIT723/code/copilot/Final_code/code_files/qmeans/qmeans_top10/code8.py\"\n",
    "file9 = \"/Users/arsh/OneDrive - Deakin University/UNI/2023/T2/SIT723/code/copilot/Final_code/code_files/qmeans/qmeans_top10/code9.py\"\n",
    "file10 = \"/Users/arsh/OneDrive - Deakin University/UNI/2023/T2/SIT723/code/copilot/Final_code/code_files/qmeans/qmeans_top10/code10.py\"\n",
    "main = \"/Users/arsh/OneDrive - Deakin University/UNI/2023/T2/SIT723/code/copilot/Final_code/code_files/qmeans/q-means.py\"\n"
   ]
  },
  {
   "cell_type": "code",
   "execution_count": 62,
   "metadata": {},
   "outputs": [
    {
     "data": {
      "text/plain": [
       "[0.37715260222507774,\n",
       " 0.2857506663070021,\n",
       " 0.23632135022677825,\n",
       " 0.2511520587688557,\n",
       " 0.24248523903289074,\n",
       " 0.2668432526552825,\n",
       " 0.23655678688441795,\n",
       " 0.26651335788827624,\n",
       " 0.2392447253570263,\n",
       " 0.2206227489466151]"
      ]
     },
     "execution_count": 62,
     "metadata": {},
     "output_type": "execute_result"
    }
   ],
   "source": [
    "# Function to read file content\n",
    "def read_file(file_path):\n",
    "    with open(file_path, 'r', encoding='utf-8') as file:\n",
    "        return file.read()\n",
    "\n",
    "main_code = read_file(main)\n",
    "\n",
    "#\n",
    "\n",
    "# Read files\n",
    "code1 = read_file(file1)\n",
    "code2 = read_file(file2)\n",
    "code3 = read_file(file3)\n",
    "code4 = read_file(file4)\n",
    "code5 = read_file(file5)\n",
    "code6 = read_file(file6)\n",
    "code7 = read_file(file7)\n",
    "code8 = read_file(file8)\n",
    "code9 = read_file(file9)\n",
    "code10 = read_file(file10)\n",
    "\n",
    "# Assuming you have a function to calculate CodeBLEU, which might look like this:\n",
    "# code_bleu_score = calculate_code_bleu(reference_code, candidate_code)\n",
    "# Where `reference_code` could be a list of correct codes and `candidate_code` is the generated code.\n",
    "# For simplicity, assuming candidate_code is code2 and reference_code contains code1:\n",
    "\n",
    "result1 = calc_codebleu([main_code], [code1], lang=\"python\", weights=(0.25, 0.25, 0.25, 0.25), tokenizer=None)\n",
    "result2 = calc_codebleu([main_code], [code2], lang=\"python\", weights=(0.25, 0.25, 0.25, 0.25), tokenizer=None)\n",
    "result3 = calc_codebleu([main_code], [code3], lang=\"python\", weights=(0.25, 0.25, 0.25, 0.25), tokenizer=None)\n",
    "result4 = calc_codebleu([main_code], [code4], lang=\"python\", weights=(0.25, 0.25, 0.25, 0.25), tokenizer=None)\n",
    "result5 = calc_codebleu([main_code], [code5], lang=\"python\", weights=(0.25, 0.25, 0.25, 0.25), tokenizer=None)\n",
    "result6 = calc_codebleu([main_code], [code6], lang=\"python\", weights=(0.25, 0.25, 0.25, 0.25), tokenizer=None)\n",
    "result7 = calc_codebleu([main_code], [code7], lang=\"python\", weights=(0.25, 0.25, 0.25, 0.25), tokenizer=None)\n",
    "result8 = calc_codebleu([main_code], [code8], lang=\"python\", weights=(0.25, 0.25, 0.25, 0.25), tokenizer=None)\n",
    "result9 = calc_codebleu([main_code], [code9], lang=\"python\", weights=(0.25, 0.25, 0.25, 0.25), tokenizer=None)\n",
    "result10 = calc_codebleu([main_code], [code10], lang=\"python\", weights=(0.25, 0.25, 0.25, 0.25), tokenizer=None)\n",
    "\n",
    "\n",
    "val1 = list(result1.values())\n",
    "val2 = list(result2.values())\n",
    "val3 = list(result3.values())\n",
    "val4 = list(result4.values())\n",
    "val5 = list(result5.values())\n",
    "val6 = list(result6.values())\n",
    "val7 = list(result7.values())\n",
    "val8 = list(result8.values())\n",
    "val9 = list(result9.values())\n",
    "val10 = list(result10.values())\n",
    "\n",
    "code10 = [val1[0], val2[0], val3[0], val4[0], val5[0], val6[0], val7[0], val8[0], val9[0], val10[0]]\n",
    "code5 = [val1[0], val2[0], val3[0], val4[0], val5[0]]\n",
    "code10"
   ]
  },
  {
   "cell_type": "code",
   "execution_count": 370,
   "metadata": {},
   "outputs": [
    {
     "name": "stdout",
     "output_type": "stream",
     "text": [
      "Mean: 0.5230219566680883\n",
      "Median: 0.7169431807506464\n",
      "Standard Deviation: 0.25036249593932025\n",
      "Maximum Value: 0.7461138698501997\n",
      "Minimum Value: 0.1930118677386887\n"
     ]
    }
   ],
   "source": [
    "data_array = np.array(code5)\n",
    "\n",
    "# Calculate the mean\n",
    "mean = np.mean(data_array)\n",
    "\n",
    "# Calculate the median\n",
    "median = np.median(data_array)\n",
    "\n",
    "# Calculate the standard deviation\n",
    "std_dev = np.std(data_array)\n",
    "\n",
    "# Find the maximum value\n",
    "max_val = np.max(data_array)\n",
    "\n",
    "# Find the minimum value\n",
    "min_val = np.min(data_array)\n",
    "\n",
    "print(\"Mean:\", mean)\n",
    "print(\"Median:\", median)\n",
    "print(\"Standard Deviation:\", std_dev)\n",
    "print(\"Maximum Value:\", max_val)\n",
    "print(\"Minimum Value:\", min_val)"
   ]
  },
  {
   "cell_type": "code",
   "execution_count": 371,
   "metadata": {},
   "outputs": [
    {
     "name": "stdout",
     "output_type": "stream",
     "text": [
      "Mean: 0.32135152063701933\n",
      "Median: 0.2115584457334559\n",
      "Standard Deviation: 0.27234812571731004\n",
      "Maximum Value: 0.7461138698501997\n",
      "Minimum Value: 0.025596831686173764\n"
     ]
    }
   ],
   "source": [
    "data_array = np.array(code10)\n",
    "\n",
    "# Calculate the mean\n",
    "mean = np.mean(data_array)\n",
    "\n",
    "# Calculate the median\n",
    "median = np.median(data_array)\n",
    "\n",
    "# Calculate the standard deviation\n",
    "std_dev = np.std(data_array)\n",
    "\n",
    "# Find the maximum value\n",
    "max_val = np.max(data_array)\n",
    "\n",
    "# Find the minimum value\n",
    "min_val = np.min(data_array)\n",
    "\n",
    "print(\"Mean:\", mean)\n",
    "print(\"Median:\", median)\n",
    "print(\"Standard Deviation:\", std_dev)\n",
    "print(\"Maximum Value:\", max_val)\n",
    "print(\"Minimum Value:\", min_val)"
   ]
  },
  {
   "cell_type": "code",
   "execution_count": 372,
   "metadata": {},
   "outputs": [
    {
     "data": {
      "image/png": "[encoded data removed]",
      "text/plain": [
       "<Figure size 500x400 with 1 Axes>"
      ]
     },
     "metadata": {},
     "output_type": "display_data"
    }
   ],
   "source": [
    "labels = [\"Top 5 Generated Codes\",\"Top 10 Generated Codes\"]\n",
    "\n",
    "# Plotting the box plot with updated labels\n",
    "plt.figure(figsize=(5, 4))\n",
    "plt.boxplot([code5,code10], patch_artist=True, notch=False, labels=labels)\n",
    "plt.title(' CodeBlau Score for  Codes')\n",
    "plt.ylabel('Similarity Score')\n",
    "plt.grid(True)\n",
    "plt.show()\n"
   ]
  }
 ],
 "metadata": {
  "kernelspec": {
   "display_name": "Python 3 (ipykernel)",
   "language": "python",
   "name": "python3"
  },
  "language_info": {
   "codemirror_mode": {
    "name": "ipython",
    "version": 3
   },
   "file_extension": ".py",
   "mimetype": "text/x-python",
   "name": "python",
   "nbconvert_exporter": "python",
   "pygments_lexer": "ipython3",
   "version": "3.11.2"
  }
 },
 "nbformat": 4,
 "nbformat_minor": 2
}
