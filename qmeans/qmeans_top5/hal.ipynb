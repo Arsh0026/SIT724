{
 "cells": [
  {
   "cell_type": "code",
   "execution_count": 248,
   "metadata": {},
   "outputs": [
    {
     "data": {
      "text/plain": [
       "array([28.52932501,  1.5       , 42.79398752])"
      ]
     },
     "execution_count": 248,
     "metadata": {},
     "output_type": "execute_result"
    }
   ],
   "source": [
    "# code 1 \n",
    "\n",
    "import numpy as np\n",
    "import matplotlib.pyplot as plt\n",
    "\n",
    "# Define the dictionary\n",
    "data_dict = {\n",
    "    'h1': 3,\n",
    "    'h2': 6,\n",
    "    'N1': 3,\n",
    "    'N2': 6,\n",
    "    'vocabulary': 9,\n",
    "    'length': 9,\n",
    "    'calculated_length': 20.264662506490406,\n",
    "    'volume': 28.529325012980813,\n",
    "    'difficulty': 1.5,\n",
    "    'effort': 42.793987519471216,\n",
    "    'time': 2.377443751081734,\n",
    "    'bugs': 0.009509775004326938\n",
    "}\n",
    "\n",
    "# Convert the dictionary to a NumPy array\n",
    "data_array = np.array([list(data_dict.values())])\n",
    "\n",
    "\n",
    "data1 = data_array\n",
    "\n",
    "data1[0,7:10]"
   ]
  },
  {
   "cell_type": "code",
   "execution_count": 229,
   "metadata": {},
   "outputs": [
    {
     "data": {
      "text/plain": [
       "array([120.4046537 ,   2.64705882, 318.71820098])"
      ]
     },
     "execution_count": 229,
     "metadata": {},
     "output_type": "execute_result"
    }
   ],
   "source": [
    "# code 2\n",
    "import numpy as np\n",
    "\n",
    "import numpy as np\n",
    "\n",
    "# Define the dictionary\n",
    "data_dict = {\n",
    "    'h1': 5,\n",
    "    'h2': 17,\n",
    "    'N1': 9,\n",
    "    'N2': 18,\n",
    "    'vocabulary': 22,\n",
    "    'length': 27,\n",
    "    'calculated_length': 81.0965087756926,\n",
    "    'volume': 120.40465370320703,\n",
    "    'difficulty': 2.6470588235294117,\n",
    "    'effort': 318.71820097907744,\n",
    "    'time': 17.706566721059858,\n",
    "    'bugs': 0.04013488456773568\n",
    "}\n",
    "\n",
    "# Convert the dictionary to a NumPy array\n",
    "data_array = np.array([list(data_dict.values())])\n",
    "\n",
    "data2 = data_array\n",
    "data2[0,7:10]"
   ]
  },
  {
   "cell_type": "code",
   "execution_count": 228,
   "metadata": {},
   "outputs": [
    {
     "name": "stdout",
     "output_type": "stream",
     "text": [
      "[[8.00000000e+00 3.80000000e+01 2.60000000e+01 5.00000000e+01\n",
      "  4.60000000e+01 7.60000000e+01 2.23421246e+02 4.19790709e+02\n",
      "  5.26315789e+00 2.20942478e+03 1.22745821e+02 1.39930236e-01]]\n"
     ]
    },
    {
     "data": {
      "text/plain": [
       "array([ 419.79070866,    5.26315789, 2209.42478242])"
      ]
     },
     "execution_count": 228,
     "metadata": {},
     "output_type": "execute_result"
    }
   ],
   "source": [
    "\n",
    "import numpy as np\n",
    "\n",
    "# Define the dictionary\n",
    "data_dict = {\n",
    "    'h1': 8,\n",
    "    'h2': 38,\n",
    "    'N1': 26,\n",
    "    'N2': 50,\n",
    "    'vocabulary': 46,\n",
    "    'length': 76,\n",
    "    'calculated_length': 223.42124551085624,\n",
    "    'volume': 419.790708660333,\n",
    "    'difficulty': 5.2631578947368425,\n",
    "    'effort': 2209.4247824228055,\n",
    "    'time': 122.74582124571141,\n",
    "    'bugs': 0.139930236220111\n",
    "}\n",
    "\n",
    "# Convert the dictionary to a NumPy array\n",
    "data_array = np.array([list(data_dict.values())])\n",
    "\n",
    "print(data_array)\n",
    "data3 = data_array\n",
    "data3[0,7:10]\n"
   ]
  },
  {
   "cell_type": "code",
   "execution_count": 221,
   "metadata": {},
   "outputs": [
    {
     "name": "stdout",
     "output_type": "stream",
     "text": [
      "[[7.00000000e+00 1.90000000e+01 1.20000000e+01 2.40000000e+01\n",
      "  2.60000000e+01 3.60000000e+01 1.00362107e+02 1.69215830e+02\n",
      "  4.42105263e+00 7.48112090e+02 4.15617828e+01 5.64052766e-02]]\n"
     ]
    },
    {
     "data": {
      "text/plain": [
       "array([169.21582985,   4.42105263, 748.11208988])"
      ]
     },
     "execution_count": 221,
     "metadata": {},
     "output_type": "execute_result"
    }
   ],
   "source": [
    "#code 4\n",
    "import numpy as np\n",
    "\n",
    "# Define the dictionary\n",
    "data_dict = {\n",
    "    'h1': 7,\n",
    "    'h2': 19,\n",
    "    'N1': 12,\n",
    "    'N2': 24,\n",
    "    'vocabulary': 26,\n",
    "    'length': 36,\n",
    "    'calculated_length': 100.36210720983135,\n",
    "    'volume': 169.21582985307933,\n",
    "    'difficulty': 4.421052631578948,\n",
    "    'effort': 748.1120898767718,\n",
    "    'time': 41.56178277093177,\n",
    "    'bugs': 0.05640527661769311\n",
    "}\n",
    "\n",
    "# Convert the dictionary to a NumPy array\n",
    "data_array = np.array([list(data_dict.values())])\n",
    "\n",
    "print(data_array)\n",
    "data4 = data_array\n",
    "data4[0,7:10]"
   ]
  },
  {
   "cell_type": "code",
   "execution_count": 235,
   "metadata": {},
   "outputs": [
    {
     "name": "stdout",
     "output_type": "stream",
     "text": [
      "[[9.00000000e+00 2.70000000e+01 1.50000000e+01 3.00000000e+01\n",
      "  3.60000000e+01 4.50000000e+01 1.56911288e+02 2.32646625e+02\n",
      "  5.00000000e+00 1.16323313e+03 6.46240625e+01 7.75488750e-02]]\n"
     ]
    },
    {
     "data": {
      "text/plain": [
       "232.64662506490404"
      ]
     },
     "execution_count": 235,
     "metadata": {},
     "output_type": "execute_result"
    }
   ],
   "source": [
    "import numpy as np\n",
    "#code5\n",
    "# Define the dictionary\n",
    "data_dict = {\n",
    "    'h1': 9,\n",
    "    'h2': 27,\n",
    "    'N1': 15,\n",
    "    'N2': 30,\n",
    "    'vocabulary': 36,\n",
    "    'length': 45,\n",
    "    'calculated_length': 156.9112875713945,\n",
    "    'volume': 232.64662506490404,\n",
    "    'difficulty': 5.0,\n",
    "    'effort': 1163.2331253245202,\n",
    "    'time': 64.6240625180289,\n",
    "    'bugs': 0.07754887502163468\n",
    "}\n",
    "\n",
    "# Convert the dictionary to a NumPy array\n",
    "data_array = np.array([list(data_dict.values())])\n",
    "\n",
    "print(data_array)\n",
    "\n",
    "\n",
    "\n",
    "data5 = data_array\n",
    "data5[0,7]"
   ]
  },
  {
   "cell_type": "code",
   "execution_count": 236,
   "metadata": {},
   "outputs": [
    {
     "name": "stdout",
     "output_type": "stream",
     "text": [
      "[[5.00000000e+00 1.00000000e+01 7.00000000e+00 1.30000000e+01\n",
      "  1.50000000e+01 2.00000000e+01 4.48289214e+01 7.81378119e+01\n",
      "  3.25000000e+00 2.53947889e+02 1.41082160e+01 2.60459373e-02]]\n"
     ]
    },
    {
     "data": {
      "text/plain": [
       "array([ 78.13781191,   3.25      , 253.94788871])"
      ]
     },
     "execution_count": 236,
     "metadata": {},
     "output_type": "execute_result"
    }
   ],
   "source": [
    "#CODE 6\n",
    "import numpy as np\n",
    "\n",
    "import numpy as np\n",
    "\n",
    "# Define the dictionary\n",
    "data_dict = {\n",
    "    'h1': 5,\n",
    "    'h2': 10,\n",
    "    'N1': 7,\n",
    "    'N2': 13,\n",
    "    'vocabulary': 15,\n",
    "    'length': 20,\n",
    "    'calculated_length': 44.82892142331043,\n",
    "    'volume': 78.13781191217038,\n",
    "    'difficulty': 3.25,\n",
    "    'effort': 253.94788871455373,\n",
    "    'time': 14.10821603969743,\n",
    "    'bugs': 0.026045937304056792\n",
    "}\n",
    "\n",
    "# Convert the dictionary to a NumPy array\n",
    "data_array = np.array([list(data_dict.values())])\n",
    "\n",
    "print(data_array)\n",
    "data6 = data_array\n",
    "data6[0,7:10]"
   ]
  },
  {
   "cell_type": "code",
   "execution_count": 237,
   "metadata": {},
   "outputs": [
    {
     "name": "stdout",
     "output_type": "stream",
     "text": [
      "[[7.00000000e+00 2.00000000e+01 1.00000000e+01 2.00000000e+01\n",
      "  2.70000000e+01 3.00000000e+01 1.06090046e+02 1.42646625e+02\n",
      "  3.50000000e+00 4.99263188e+02 2.77368438e+01 4.75488750e-02]]\n"
     ]
    },
    {
     "data": {
      "text/plain": [
       "array([142.64662506,   3.5       , 499.26318773])"
      ]
     },
     "execution_count": 237,
     "metadata": {},
     "output_type": "execute_result"
    }
   ],
   "source": [
    "#CODE 7\n",
    "import numpy as np\n",
    "\n",
    "import numpy as np\n",
    "\n",
    "# Define the dictionary\n",
    "data_dict = {\n",
    "    'h1': 7,\n",
    "    'h2': 20,\n",
    "    'N1': 10,\n",
    "    'N2': 20,\n",
    "    'vocabulary': 27,\n",
    "    'length': 30,\n",
    "    'calculated_length': 106.09004635215048,\n",
    "    'volume': 142.64662506490407,\n",
    "    'difficulty': 3.5,\n",
    "    'effort': 499.2631877271642,\n",
    "    'time': 27.736843762620236,\n",
    "    'bugs': 0.04754887502163469\n",
    "}\n",
    "\n",
    "# Convert the dictionary to a NumPy array\n",
    "data_array = np.array([list(data_dict.values())])\n",
    "\n",
    "print(data_array)\n",
    "\n",
    "data7 = data_array\n",
    "data7[0,7:10]"
   ]
  },
  {
   "cell_type": "code",
   "execution_count": 239,
   "metadata": {},
   "outputs": [
    {
     "name": "stdout",
     "output_type": "stream",
     "text": [
      "[[7.00000000e+00 2.00000000e+01 1.00000000e+01 2.00000000e+01\n",
      "  2.70000000e+01 3.00000000e+01 1.06090046e+02 1.42646625e+02\n",
      "  3.50000000e+00 4.99263188e+02 2.77368438e+01 4.75488750e-02]]\n"
     ]
    }
   ],
   "source": [
    "#CODE8\n",
    "import numpy as np\n",
    "import numpy as np\n",
    "\n",
    "# Define the dictionary\n",
    "data_dict = {\n",
    "    'h1': 7,\n",
    "    'h2': 20,\n",
    "    'N1': 10,\n",
    "    'N2': 20,\n",
    "    'vocabulary': 27,\n",
    "    'length': 30,\n",
    "    'calculated_length': 106.09004635215048,\n",
    "    'volume': 142.64662506490407,\n",
    "    'difficulty': 3.5,\n",
    "    'effort': 499.2631877271642,\n",
    "    'time': 27.736843762620236,\n",
    "    'bugs': 0.04754887502163469\n",
    "}\n",
    "\n",
    "# Convert the dictionary to a NumPy array\n",
    "data_array = np.array([list(data_dict.values())])\n",
    "\n",
    "print(data_array)\n",
    "\n",
    "\n",
    "data8 = data_array\n"
   ]
  },
  {
   "cell_type": "code",
   "execution_count": 240,
   "metadata": {},
   "outputs": [
    {
     "name": "stdout",
     "output_type": "stream",
     "text": [
      "[[9.00000000e+00 4.60000000e+01 2.50000000e+01 5.00000000e+01\n",
      "  5.50000000e+01 7.50000000e+01 2.82613175e+02 4.33601979e+02\n",
      "  4.89130435e+00 2.12087924e+03 1.17826625e+02 1.44533993e-01]]\n"
     ]
    },
    {
     "data": {
      "text/plain": [
       "array([ 433.60197851,    4.89130435, 2120.87924273])"
      ]
     },
     "execution_count": 240,
     "metadata": {},
     "output_type": "execute_result"
    }
   ],
   "source": [
    "import numpy as np\n",
    "\n",
    "import numpy as np\n",
    "\n",
    "# Define the dictionary\n",
    "data_dict = {\n",
    "    'h1': 9,\n",
    "    'h2': 46,\n",
    "    'N1': 25,\n",
    "    'N2': 50,\n",
    "    'vocabulary': 55,\n",
    "    'length': 75,\n",
    "    'calculated_length': 282.6131749916034,\n",
    "    'volume': 433.60197851434947,\n",
    "    'difficulty': 4.891304347826087,\n",
    "    'effort': 2120.879242733231,\n",
    "    'time': 117.82662459629061,\n",
    "    'bugs': 0.1445339928381165\n",
    "}\n",
    "\n",
    "# Convert the dictionary to a NumPy array\n",
    "data_array = np.array([list(data_dict.values())])\n",
    "\n",
    "print(data_array)\n",
    "\n",
    "data9 = data_array\n",
    "data9[0,7:10]\n"
   ]
  },
  {
   "cell_type": "code",
   "execution_count": 241,
   "metadata": {},
   "outputs": [
    {
     "name": "stdout",
     "output_type": "stream",
     "text": [
      "[[9.00000000e+00 4.60000000e+01 2.50000000e+01 5.00000000e+01\n",
      "  5.50000000e+01 7.50000000e+01 2.82613175e+02 4.33601979e+02\n",
      "  4.89130435e+00 2.12087924e+03 1.17826625e+02 1.44533993e-01]]\n"
     ]
    },
    {
     "data": {
      "text/plain": [
       "433.60197851434947"
      ]
     },
     "execution_count": 241,
     "metadata": {},
     "output_type": "execute_result"
    }
   ],
   "source": [
    "import numpy as np\n",
    "\n",
    "# Define the dictionary\n",
    "data_dict = {\n",
    "    'h1': 9,\n",
    "    'h2': 46,\n",
    "    'N1': 25,\n",
    "    'N2': 50,\n",
    "    'vocabulary': 55,\n",
    "    'length': 75,\n",
    "    'calculated_length': 282.6131749916034,\n",
    "    'volume': 433.60197851434947,\n",
    "    'difficulty': 4.891304347826087,\n",
    "    'effort': 2120.879242733231,\n",
    "    'time': 117.82662459629061,\n",
    "    'bugs': 0.1445339928381165\n",
    "}\n",
    "\n",
    "# Convert the dictionary to a NumPy array\n",
    "data_array = np.array([list(data_dict.values())])\n",
    "\n",
    "print(data_array)\n",
    "\n",
    "\n",
    "data10 = data_array\n",
    "data10[0,7]"
   ]
  },
  {
   "cell_type": "code",
   "execution_count": 374,
   "metadata": {},
   "outputs": [
    {
     "name": "stdout",
     "output_type": "stream",
     "text": [
      "[15.509775004326936, 4.754887502163469, 176.41891628622352, 55.506595772116384, 232.64662506490404] [15.509775004326936, 4.754887502163469, 176.41891628622352, 55.506595772116384, 232.64662506490404, 15.509775004326936, 4.754887502163469, 142.64662506490407, 99.91187238980949, 99.91187238980949] [1.0, 0.5, 3.611111111111111, 2.2222222222222223, 5.0] [1.0, 0.5, 3.611111111111111, 2.2222222222222223, 5.0, 1.0, 0.5, 3.5, 2.7, 2.7] [15.509775004326936, 2.3774437510817346, 637.0683088113627, 123.34799060470309, 1163.2331253245202] [15.509775004326936, 2.3774437510817346, 637.0683088113627, 123.34799060470309, 1163.2331253245202, 15.509775004326936, 2.3774437510817346, 499.2631877271642, 269.76205545248564, 269.76205545248564]\n"
     ]
    }
   ],
   "source": [
    "volume5 = [data1[0,7],data2[0,7],data3[0,7],data4[0,7],data5[0,7]]\n",
    "volume10 = [data1[0,7],data2[0,7],data3[0,7],data4[0,7],data5[0,7],data6[0,7],data7[0,7],data8[0,7],data9[0,7],data10[0,7]]\n",
    "\n",
    "difficulty5 = [data1[0,8],data2[0,8],data3[0,8],data4[0,8],data5[0,8]]\n",
    "difficulty10 = [data1[0,8],data2[0,8],data3[0,8],data4[0,8],data5[0,8],data6[0,8],data7[0,8],data8[0,8],data9[0,8],data10[0,8]]\n",
    "\n",
    "effort5 = [data1[0,9],data2[0,9],data3[0,9],data4[0,9],data5[0,9]]\n",
    "effort10 = [data1[0,9],data2[0,9],data3[0,9],data4[0,9],data5[0,9],data6[0,9],data7[0,9],data8[0,9],data9[0,9],data10[0,9]]\n",
    "\n",
    "print(volume5,volume10,difficulty5,difficulty10,effort5,effort10)\n"
   ]
  },
  {
   "cell_type": "code",
   "execution_count": 254,
   "metadata": {},
   "outputs": [
    {
     "data": {
      "image/png": "[encoded data removed]",
      "text/plain": [
       "<Figure size 500x400 with 1 Axes>"
      ]
     },
     "metadata": {},
     "output_type": "display_data"
    }
   ],
   "source": [
    "\n",
    "labels = [\"Volume5\",\"Volume10\"]\n",
    "data = [volume5,volume10]\n",
    "# Plotting the box plot with updated labels\n",
    "plt.figure(figsize=(5, 4))\n",
    "plt.boxplot(data, patch_artist=True, notch=False, labels=labels)\n",
    "plt.title(' HAL Volume Score for  Generated Codes')\n",
    "plt.ylabel('Hal Volume Score')\n",
    "plt.grid(True)\n",
    "plt.show()\n"
   ]
  },
  {
   "cell_type": "code",
   "execution_count": 255,
   "metadata": {},
   "outputs": [
    {
     "data": {
      "image/png": "[encoded data removed]",
      "text/plain": [
       "<Figure size 500x400 with 1 Axes>"
      ]
     },
     "metadata": {},
     "output_type": "display_data"
    }
   ],
   "source": [
    "labels = [\"Difficulty5\",\"Difficulty10\"]\n",
    "data = [difficulty5,difficulty10]   \n",
    "# Plotting the box plot with updated labels\n",
    "plt.figure(figsize=(5, 4))\n",
    "plt.boxplot(data, patch_artist=True, notch=False, labels=labels)\n",
    "plt.title(' HAL Difficulty Score for  Generated Codes')\n",
    "plt.ylabel('Hal Difficulty Score')\n",
    "plt.grid(True)\n",
    "plt.show()\n"
   ]
  },
  {
   "cell_type": "code",
   "execution_count": 373,
   "metadata": {},
   "outputs": [
    {
     "data": {
      "image/png": "[encoded data removed]",
      "text/plain": [
       "<Figure size 500x400 with 1 Axes>"
      ]
     },
     "metadata": {},
     "output_type": "display_data"
    }
   ],
   "source": [
    "labels = [\"Effort5\",\"Effort10\"]\n",
    "data = [effort5,effort10]\n",
    "# Plotting the box plot with updated labels\n",
    "plt.figure(figsize=(5, 4))\n",
    "plt.boxplot(data, patch_artist=True, notch=False, labels=labels)\n",
    "plt.title(' HAL Effort Score for  Generated Codes')\n",
    "plt.ylabel('Hal Effort Score')\n",
    "plt.grid(True)\n",
    "plt.show()"
   ]
  },
  {
   "cell_type": "code",
   "execution_count": null,
   "metadata": {},
   "outputs": [],
   "source": []
  }
 ],
 "metadata": {
  "kernelspec": {
   "display_name": "Python 3 (ipykernel)",
   "language": "python",
   "name": "python3"
  },
  "language_info": {
   "codemirror_mode": {
    "name": "ipython",
    "version": 3
   },
   "file_extension": ".py",
   "mimetype": "text/x-python",
   "name": "python",
   "nbconvert_exporter": "python",
   "pygments_lexer": "ipython3",
   "version": "3.11.2"
  }
 },
 "nbformat": 4,
 "nbformat_minor": 2
}
