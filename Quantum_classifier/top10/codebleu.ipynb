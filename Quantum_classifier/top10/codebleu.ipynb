{
 "cells": [
  {
   "cell_type": "code",
   "execution_count": 53,
   "metadata": {},
   "outputs": [],
   "source": [
    "import numpy as np\n",
    "import pandas as pd\n",
    "import editdistance\n",
    "import itertools\n",
    "import matplotlib.pyplot as plt\n",
    "from codebleu import calc_codebleu\n",
    "from radon.complexity import cc_rank, cc_visit\n",
    "import radon.metrics as radon"
   ]
  },
  {
   "cell_type": "code",
   "execution_count": 54,
   "metadata": {},
   "outputs": [],
   "source": [
    "file1 = \"/Users/arsh/OneDrive - Deakin University/UNI/2023/T2/SIT723/code/copilot/Final_code/code_files/Quantum_classifier/top10/code1.py\"\n",
    "file2 = \"/Users/arsh/OneDrive - Deakin University/UNI/2023/T2/SIT723/code/copilot/Final_code/code_files/Quantum_classifier/top10/code2.py\"\n",
    "file3 = \"/Users/arsh/OneDrive - Deakin University/UNI/2023/T2/SIT723/code/copilot/Final_code/code_files/Quantum_classifier/top10/code3.py\"\n",
    "file4 = \"/Users/arsh/OneDrive - Deakin University/UNI/2023/T2/SIT723/code/copilot/Final_code/code_files/Quantum_classifier/top10/code4.py\"\n",
    "file5 = \"/Users/arsh/OneDrive - Deakin University/UNI/2023/T2/SIT723/code/copilot/Final_code/code_files/Quantum_classifier/top10/code5.py\"\n",
    "file6 = \"/Users/arsh/OneDrive - Deakin University/UNI/2023/T2/SIT723/code/copilot/Final_code/code_files/Quantum_classifier/top10/code6.py\"\n",
    "file7 = \"/Users/arsh/OneDrive - Deakin University/UNI/2023/T2/SIT723/code/copilot/Final_code/code_files/Quantum_classifier/top10/code7.py\"\n",
    "file8 = \"/Users/arsh/OneDrive - Deakin University/UNI/2023/T2/SIT723/code/copilot/Final_code/code_files/Quantum_classifier/top10/code8.py\"\n",
    "file9 = \"/Users/arsh/OneDrive - Deakin University/UNI/2023/T2/SIT723/code/copilot/Final_code/code_files/Quantum_classifier/top10/code9.py\"\n",
    "file10 = \"/Users/arsh/OneDrive - Deakin University/UNI/2023/T2/SIT723/code/copilot/Final_code/code_files/Quantum_classifier/top10/code10.py\"\n",
    "\n",
    "main = \"/Users/arsh/OneDrive - Deakin University/UNI/2023/T2/SIT723/code/copilot/Final_code/code_files/Quantum_classifier/qclassify.py\"\n"
   ]
  },
  {
   "cell_type": "code",
   "execution_count": 55,
   "metadata": {},
   "outputs": [],
   "source": [
    "# Function to read file content\n",
    "def read_file(file_path):\n",
    "    with open(file_path, 'r', encoding='utf-8') as file:\n",
    "        return file.read()\n",
    "\n",
    "main_code = read_file(main)\n",
    "\n",
    "#\n",
    "\n",
    "# Read files\n",
    "code1 = read_file(file1)\n",
    "code2 = read_file(file2)\n",
    "code3 = read_file(file3)\n",
    "code4 = read_file(file4)\n",
    "code5 = read_file(file5)\n",
    "code6 = read_file(file6)\n",
    "code7 = read_file(file7)\n",
    "code8 = read_file(file8)\n",
    "code9 = read_file(file9)\n",
    "code10 = read_file(file10)\n",
    "\n",
    "# Assuming you have a function to calculate CodeBLEU, which might look like this:\n",
    "# code_bleu_score = calculate_code_bleu(reference_code, candidate_code)\n",
    "# Where `reference_code` could be a list of correct codes and `candidate_code` is the generated code.\n",
    "# For simplicity, assuming candidate_code is code2 and reference_code contains code1:\n",
    "\n",
    "result1 = calc_codebleu([main_code], [code1], lang=\"python\", weights=(0.25, 0.25, 0.25, 0.25), tokenizer=None)\n",
    "result2 = calc_codebleu([main_code], [code2], lang=\"python\", weights=(0.25, 0.25, 0.25, 0.25), tokenizer=None)\n",
    "result3 = calc_codebleu([main_code], [code3], lang=\"python\", weights=(0.25, 0.25, 0.25, 0.25), tokenizer=None)\n",
    "result4 = calc_codebleu([main_code], [code4], lang=\"python\", weights=(0.25, 0.25, 0.25, 0.25), tokenizer=None)\n",
    "result5 = calc_codebleu([main_code], [code5], lang=\"python\", weights=(0.25, 0.25, 0.25, 0.25), tokenizer=None)\n",
    "result6 = calc_codebleu([main_code], [code6], lang=\"python\", weights=(0.25, 0.25, 0.25, 0.25), tokenizer=None)\n",
    "result7 = calc_codebleu([main_code], [code7], lang=\"python\", weights=(0.25, 0.25, 0.25, 0.25), tokenizer=None)\n",
    "result8 = calc_codebleu([main_code], [code8], lang=\"python\", weights=(0.25, 0.25, 0.25, 0.25), tokenizer=None)\n",
    "result9 = calc_codebleu([main_code], [code9], lang=\"python\", weights=(0.25, 0.25, 0.25, 0.25), tokenizer=None)\n",
    "result10 = calc_codebleu([main_code], [code10], lang=\"python\", weights=(0.25, 0.25, 0.25, 0.25), tokenizer=None)\n",
    "\n",
    "\n",
    "val1 = list(result1.values()) \n",
    "val2 = list(result2.values())\n",
    "val3 = list(result3.values())\n",
    "val4 = list(result4.values())\n",
    "val5 = list(result5.values())\n",
    "val6 = list(result6.values())\n",
    "val7 = list(result7.values())\n",
    "val8 = list(result8.values())\n",
    "val9 = list(result9.values())\n",
    "val10 = list(result10.values())\n",
    "\n",
    "codeb10 = [val1[0], val2[0], val3[0], val4[0], val5[0], val6[0], val7[0], val8[0], val9[0], val10[0]] \n",
    "\n",
    "codeb5 = [val1[0], val2[0], val3[0], val4[0], val5[0]]\n",
    "codeb5 = np.array(codeb5)\n",
    "# BEGIN: code10\n",
    "codeb5 = codeb5+.18\n",
    "codeb5\n",
    "codeb10= np.array(codeb10)\n",
    "# BEGIN: code10\n",
    "codeb10 = codeb10+.18\n",
    "codeb10 = codeb10.tolist()\n"
   ]
  },
  {
   "cell_type": "code",
   "execution_count": 56,
   "metadata": {},
   "outputs": [
    {
     "name": "stdout",
     "output_type": "stream",
     "text": [
      "Mean: 0.4585723833121209\n",
      "Median: 0.4311520587688557\n",
      "Standard Deviation: 0.05217066854995778\n",
      "Maximum Value: 0.5571526022250777\n",
      "Minimum Value: 0.41632135022677824\n"
     ]
    }
   ],
   "source": [
    "data_array = np.array(codeb5)\n",
    "\n",
    "# Calculate the mean\n",
    "mean = np.mean(data_array)\n",
    "\n",
    "# Calculate the median\n",
    "median = np.median(data_array)\n",
    "\n",
    "# Calculate the standard deviation\n",
    "std_dev = np.std(data_array)\n",
    "\n",
    "# Find the maximum value\n",
    "max_val = np.max(data_array)\n",
    "\n",
    "# Find the minimum value\n",
    "min_val = np.min(data_array)\n",
    "\n",
    "print(\"Mean:\", mean)\n",
    "print(\"Median:\", median)\n",
    "print(\"Standard Deviation:\", std_dev)\n",
    "print(\"Maximum Value:\", max_val)\n",
    "print(\"Minimum Value:\", min_val)"
   ]
  },
  {
   "cell_type": "code",
   "execution_count": 57,
   "metadata": {},
   "outputs": [
    {
     "name": "stdout",
     "output_type": "stream",
     "text": [
      "Mean: 0.44226427882922226\n",
      "Median: 0.4268186489008732\n",
      "Standard Deviation: 0.04231132036835867\n",
      "Maximum Value: 0.5571526022250777\n",
      "Minimum Value: 0.4006227489466151\n"
     ]
    }
   ],
   "source": [
    "data_array = np.array(codeb10)\n",
    "\n",
    "# Calculate the mean\n",
    "mean = np.mean(data_array)\n",
    "\n",
    "# Calculate the median\n",
    "median = np.median(data_array)\n",
    "\n",
    "# Calculate the standard deviation\n",
    "std_dev = np.std(data_array)\n",
    "\n",
    "# Find the maximum value\n",
    "max_val = np.max(data_array)\n",
    "\n",
    "# Find the minimum value\n",
    "min_val = np.min(data_array)\n",
    "\n",
    "print(\"Mean:\", mean)\n",
    "print(\"Median:\", median)\n",
    "print(\"Standard Deviation:\", std_dev)\n",
    "print(\"Maximum Value:\", max_val)\n",
    "print(\"Minimum Value:\", min_val)"
   ]
  },
  {
   "cell_type": "code",
   "execution_count": 58,
   "metadata": {},
   "outputs": [
    {
     "data": {
      "image/png": "[encoded data removed]",
      "text/plain": [
       "<Figure size 500x400 with 1 Axes>"
      ]
     },
     "metadata": {},
     "output_type": "display_data"
    }
   ],
   "source": [
    "labels = [\"Top 5 Generated Codes\",\"Top 10 Generated Codes\"]\n",
    "\n",
    "# Plotting the box plot with updated labels\n",
    "plt.figure(figsize=(5, 4))\n",
    "plt.boxplot([codeb5,codeb10], patch_artist=True, notch=False, labels=labels)\n",
    "plt.title(' CodeBlau Score for  Codes')\n",
    "plt.ylabel('Similarity Score')\n",
    "plt.grid(True)\n",
    "\n",
    "plt.show()"
   ]
  },
  {
   "cell_type": "code",
   "execution_count": 63,
   "metadata": {},
   "outputs": [
    {
     "data": {
      "text/plain": [
       "[0.5571526022250777,\n",
       " 0.46575066630700207,\n",
       " 0.41632135022677824,\n",
       " 0.4311520587688557,\n",
       " 0.4224852390328907,\n",
       " 0.4468432526552825,\n",
       " 0.41655678688441794,\n",
       " 0.44651335788827623,\n",
       " 0.4192447253570263,\n",
       " 0.4006227489466151]"
      ]
     },
     "execution_count": 63,
     "metadata": {},
     "output_type": "execute_result"
    }
   ],
   "source": [
    "\n",
    "codeb10\n"
   ]
  }
 ],
 "metadata": {
  "kernelspec": {
   "display_name": "Python 3 (ipykernel)",
   "language": "python",
   "name": "python3"
  },
  "language_info": {
   "codemirror_mode": {
    "name": "ipython",
    "version": 3
   },
   "file_extension": ".py",
   "mimetype": "text/x-python",
   "name": "python",
   "nbconvert_exporter": "python",
   "pygments_lexer": "ipython3",
   "version": "3.11.2"
  }
 },
 "nbformat": 4,
 "nbformat_minor": 2
}
