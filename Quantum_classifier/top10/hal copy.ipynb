{
 "cells": [
  {
   "cell_type": "code",
   "execution_count": 15,
   "metadata": {},
   "outputs": [
    {
     "data": {
      "text/plain": [
       "array([15.509775,  1.      , 15.509775])"
      ]
     },
     "execution_count": 15,
     "metadata": {},
     "output_type": "execute_result"
    }
   ],
   "source": [
    "# code 1 \n",
    "import matplotlib.pyplot as plt\n",
    "import numpy as np\n",
    "\n",
    "# Define the dictionary\n",
    "data_dict = {\n",
    "    'h1': 2,\n",
    "    'h2': 4,\n",
    "    'N1': 2,\n",
    "    'N2': 4,\n",
    "    'vocabulary': 6,\n",
    "    'length': 6,\n",
    "    'calculated_length': 10.0,\n",
    "    'volume': 15.509775004326936,\n",
    "    'difficulty': 1.0,\n",
    "    'effort': 15.509775004326936,\n",
    "    'time': 0.861654166907052,\n",
    "    'bugs': 0.005169925001442312\n",
    "}\n",
    "\n",
    "# Convert the dictionary to a NumPy array\n",
    "data_array = np.array([list(data_dict.values())])\n",
    "\n",
    "# Access specific elements\n",
    "\n",
    "\n",
    "\n",
    "\n",
    "\n",
    "\n",
    "data1 = data_array\n",
    "\n",
    "data1[0,7:10]"
   ]
  },
  {
   "cell_type": "code",
   "execution_count": 16,
   "metadata": {},
   "outputs": [
    {
     "data": {
      "text/plain": [
       "array([4.7548875 , 0.5       , 2.37744375])"
      ]
     },
     "execution_count": 16,
     "metadata": {},
     "output_type": "execute_result"
    }
   ],
   "source": [
    "# code 2\n",
    "import numpy as np\n",
    "\n",
    "# Define the dictionary\n",
    "data_dict = {\n",
    "    'h1': 1,\n",
    "    'h2': 2,\n",
    "    'N1': 1,\n",
    "    'N2': 2,\n",
    "    'vocabulary': 3,\n",
    "    'length': 3,\n",
    "    'calculated_length': 2.0,\n",
    "    'volume': 4.754887502163469,\n",
    "    'difficulty': 0.5,\n",
    "    'effort': 2.3774437510817346,\n",
    "    'time': 0.1320802083934297,\n",
    "    'bugs': 0.0015849625007211565\n",
    "}\n",
    "\n",
    "# Convert the dictionary to a NumPy array\n",
    "data_array = np.array([list(data_dict.values())])\n",
    "\n",
    "\n",
    "\n",
    "\n",
    "data2 = data_array\n",
    "data2[0,7:10]"
   ]
  },
  {
   "cell_type": "code",
   "execution_count": 17,
   "metadata": {},
   "outputs": [
    {
     "data": {
      "text/plain": [
       "array([176.41891629,   3.61111111, 637.06830881])"
      ]
     },
     "execution_count": 17,
     "metadata": {},
     "output_type": "execute_result"
    }
   ],
   "source": [
    "#code 3\n",
    "import numpy as np\n",
    "\n",
    "# Define the dictionary\n",
    "data_dict = {\n",
    "    'h1': 5,\n",
    "    'h2': 18,\n",
    "    'N1': 13,\n",
    "    'N2': 26,\n",
    "    'vocabulary': 23,\n",
    "    'length': 39,\n",
    "    'calculated_length': 86.66829050039843,\n",
    "    'volume': 176.41891628622352,\n",
    "    'difficulty': 3.611111111111111,\n",
    "    'effort': 637.0683088113627,\n",
    "    'time': 35.392683822853485,\n",
    "    'bugs': 0.05880630542874117\n",
    "}\n",
    "\n",
    "# Convert the dictionary to a NumPy array\n",
    "data_array = np.array([list(data_dict.values())])\n",
    "\n",
    "# Access specific elements\n",
    "\n",
    "\n",
    "\n",
    "data3 = data_array\n",
    "data3[0,7:10]\n"
   ]
  },
  {
   "cell_type": "code",
   "execution_count": 18,
   "metadata": {},
   "outputs": [
    {
     "data": {
      "text/plain": [
       "array([ 55.50659577,   2.22222222, 123.3479906 ])"
      ]
     },
     "execution_count": 18,
     "metadata": {},
     "output_type": "execute_result"
    }
   ],
   "source": [
    "#code 4\n",
    "import numpy as np\n",
    "import numpy as np\n",
    "\n",
    "# Define the dictionary\n",
    "data_dict = {\n",
    "    'h1': 4,\n",
    "    'h2': 9,\n",
    "    'N1': 5,\n",
    "    'N2': 10,\n",
    "    'vocabulary': 13,\n",
    "    'length': 15,\n",
    "    'calculated_length': 36.52932501298081,\n",
    "    'volume': 55.506595772116384,\n",
    "    'difficulty': 2.2222222222222223,\n",
    "    'effort': 123.34799060470309,\n",
    "    'time': 6.852666144705727,\n",
    "    'bugs': 0.01850219859070546\n",
    "}\n",
    "\n",
    "# Convert the dictionary to a NumPy array\n",
    "data_array = np.array([list(data_dict.values())])\n",
    "\n",
    "# Access specific elements\n",
    "\n",
    "\n",
    "\n",
    "data4 = data_array\n",
    "data4[0,7:10]"
   ]
  },
  {
   "cell_type": "code",
   "execution_count": 19,
   "metadata": {},
   "outputs": [
    {
     "name": "stdout",
     "output_type": "stream",
     "text": [
      "[[9.00000000e+00 2.70000000e+01 1.50000000e+01 3.00000000e+01\n",
      "  3.60000000e+01 4.50000000e+01 1.56911288e+02 2.32646625e+02\n",
      "  5.00000000e+00 1.16323313e+03 6.46240625e+01 7.75488750e-02]]\n"
     ]
    },
    {
     "data": {
      "text/plain": [
       "232.64662506490404"
      ]
     },
     "execution_count": 19,
     "metadata": {},
     "output_type": "execute_result"
    }
   ],
   "source": [
    "import numpy as np\n",
    "#code5\n",
    "# Define the dictionary\n",
    "data_dict = {\n",
    "    'h1': 9,\n",
    "    'h2': 27,\n",
    "    'N1': 15,\n",
    "    'N2': 30,\n",
    "    'vocabulary': 36,\n",
    "    'length': 45,\n",
    "    'calculated_length': 156.9112875713945,\n",
    "    'volume': 232.64662506490404,\n",
    "    'difficulty': 5.0,\n",
    "    'effort': 1163.2331253245202,\n",
    "    'time': 64.6240625180289,\n",
    "    'bugs': 0.07754887502163468\n",
    "}\n",
    "\n",
    "# Convert the dictionary to a NumPy array\n",
    "data_array = np.array([list(data_dict.values())])\n",
    "\n",
    "print(data_array)\n",
    "\n",
    "\n",
    "\n",
    "data5 = data_array\n",
    "data5[0,7]"
   ]
  },
  {
   "cell_type": "code",
   "execution_count": 20,
   "metadata": {},
   "outputs": [
    {
     "data": {
      "text/plain": [
       "array([15.509775,  1.      , 15.509775])"
      ]
     },
     "execution_count": 20,
     "metadata": {},
     "output_type": "execute_result"
    }
   ],
   "source": [
    "#CODE 6\n",
    "import numpy as np\n",
    "\n",
    "\n",
    "# Define the dictionary\n",
    "data_dict = {\n",
    "    'h1': 2,\n",
    "    'h2': 4,\n",
    "    'N1': 2,\n",
    "    'N2': 4,\n",
    "    'vocabulary': 6,\n",
    "    'length': 6,\n",
    "    'calculated_length': 10.0,\n",
    "    'volume': 15.509775004326936,\n",
    "    'difficulty': 1.0,\n",
    "    'effort': 15.509775004326936,\n",
    "    'time': 0.861654166907052,\n",
    "    'bugs': 0.005169925001442312\n",
    "}\n",
    "\n",
    "# Convert the dictionary to a NumPy array\n",
    "data_array = np.array([list(data_dict.values())])\n",
    "\n",
    "# Accet)\n",
    "\n",
    "\n",
    "\n",
    "data6 = data_array\n",
    "data6[0,7:10]"
   ]
  },
  {
   "cell_type": "code",
   "execution_count": 21,
   "metadata": {},
   "outputs": [
    {
     "data": {
      "text/plain": [
       "array([4.7548875 , 0.5       , 2.37744375])"
      ]
     },
     "execution_count": 21,
     "metadata": {},
     "output_type": "execute_result"
    }
   ],
   "source": [
    "#CODE 7\n",
    "import numpy as np\n",
    "import numpy as np\n",
    "\n",
    "# Define the dictionary\n",
    "data_dict = {\n",
    "    'h1': 1,\n",
    "    'h2': 2,\n",
    "    'N1': 1,\n",
    "    'N2': 2,\n",
    "    'vocabulary': 3,\n",
    "    'length': 3,\n",
    "    'calculated_length': 2.0,\n",
    "    'volume': 4.754887502163469,\n",
    "    'difficulty': 0.5,\n",
    "    'effort': 2.3774437510817346,\n",
    "    'time': 0.1320802083934297,\n",
    "    'bugs': 0.0015849625007211565\n",
    "}\n",
    "\n",
    "# Convert the dictionary to a NumPy array\n",
    "data_array = np.array([list(data_dict.values())])\n",
    "\n",
    "\n",
    "\n",
    "\n",
    "\n",
    "data7 = data_array\n",
    "data7[0,7:10]"
   ]
  },
  {
   "cell_type": "code",
   "execution_count": 22,
   "metadata": {},
   "outputs": [
    {
     "name": "stdout",
     "output_type": "stream",
     "text": [
      "[[7.00000000e+00 2.00000000e+01 1.00000000e+01 2.00000000e+01\n",
      "  2.70000000e+01 3.00000000e+01 1.06090046e+02 1.42646625e+02\n",
      "  3.50000000e+00 4.99263188e+02 2.77368438e+01 4.75488750e-02]]\n"
     ]
    }
   ],
   "source": [
    "#CODE8\n",
    "import numpy as np\n",
    "import numpy as np\n",
    "\n",
    "# Define the dictionary\n",
    "data_dict = {\n",
    "    'h1': 7,\n",
    "    'h2': 20,\n",
    "    'N1': 10,\n",
    "    'N2': 20,\n",
    "    'vocabulary': 27,\n",
    "    'length': 30,\n",
    "    'calculated_length': 106.09004635215048,\n",
    "    'volume': 142.64662506490407,\n",
    "    'difficulty': 3.5,\n",
    "    'effort': 499.2631877271642,\n",
    "    'time': 27.736843762620236,\n",
    "    'bugs': 0.04754887502163469\n",
    "}\n",
    "\n",
    "# Convert the dictionary to a NumPy array\n",
    "data_array = np.array([list(data_dict.values())])\n",
    "\n",
    "print(data_array)\n",
    "\n",
    "\n",
    "data8 = data_array\n"
   ]
  },
  {
   "cell_type": "code",
   "execution_count": 23,
   "metadata": {},
   "outputs": [
    {
     "name": "stdout",
     "output_type": "stream",
     "text": [
      "[37.97416845 99.91187239  2.7       ]\n"
     ]
    },
    {
     "data": {
      "text/plain": [
       "array([ 99.91187239,   2.7       , 269.76205545])"
      ]
     },
     "execution_count": 23,
     "metadata": {},
     "output_type": "execute_result"
    }
   ],
   "source": [
    "import numpy as np\n",
    "import numpy as np\n",
    "\n",
    "# Define the dictionary\n",
    "data_dict = {\n",
    "    'h1': 3,\n",
    "    'h2': 10,\n",
    "    'N1': 9,\n",
    "    'N2': 18,\n",
    "    'vocabulary': 13,\n",
    "    'length': 27,\n",
    "    'calculated_length': 37.974168451037094,\n",
    "    'volume': 99.91187238980949,\n",
    "    'difficulty': 2.7,\n",
    "    'effort': 269.76205545248564,\n",
    "    'time': 14.986780858471425,\n",
    "    'bugs': 0.03330395746326983\n",
    "}\n",
    "\n",
    "# Convert the dictionary to a NumPy array\n",
    "data_array = np.array([list(data_dict.values())])\n",
    "\n",
    "# Access specific elements\n",
    "subset = data_array[0, 6:9]\n",
    "\n",
    "print(subset)\n",
    "\n",
    "\n",
    "\n",
    "\n",
    "data9 = data_array\n",
    "data9[0,7:10]\n"
   ]
  },
  {
   "cell_type": "code",
   "execution_count": 24,
   "metadata": {},
   "outputs": [
    {
     "name": "stdout",
     "output_type": "stream",
     "text": [
      "[37.97416845 99.91187239  2.7       ]\n"
     ]
    },
    {
     "data": {
      "text/plain": [
       "99.91187238980949"
      ]
     },
     "execution_count": 24,
     "metadata": {},
     "output_type": "execute_result"
    }
   ],
   "source": [
    "import numpy as np\n",
    "\n",
    "# Define the dictionary\n",
    "import numpy as np\n",
    "\n",
    "# Define the dictionary\n",
    "data_dict = {\n",
    "    'h1': 3,\n",
    "    'h2': 10,\n",
    "    'N1': 9,\n",
    "    'N2': 18,\n",
    "    'vocabulary': 13,\n",
    "    'length': 27,\n",
    "    'calculated_length': 37.974168451037094,\n",
    "    'volume': 99.91187238980949,\n",
    "    'difficulty': 2.7,\n",
    "    'effort': 269.76205545248564,\n",
    "    'time': 14.986780858471425,\n",
    "    'bugs': 0.03330395746326983\n",
    "}\n",
    "\n",
    "# Convert the dictionary to a NumPy array\n",
    "data_array = np.array([list(data_dict.values())])\n",
    "\n",
    "# Access specific elements\n",
    "subset = data_array[0, 6:9]\n",
    "\n",
    "print(subset)\n",
    "\n",
    "\n",
    "data10 = data_array\n",
    "data10[0,7]"
   ]
  },
  {
   "cell_type": "code",
   "execution_count": 25,
   "metadata": {},
   "outputs": [],
   "source": [
    "volume5 = [data1[0,7],data2[0,7],data3[0,7],data4[0,7],data5[0,7]]\n",
    "volume10 = [data1[0,7],data2[0,7],data3[0,7],data4[0,7],data5[0,7],data6[0,7],data7[0,7],data8[0,7],data9[0,7],data10[0,7]]\n",
    "\n",
    "difficulty5 = [data1[0,8],data2[0,8],data3[0,8],data4[0,8],data5[0,8]]\n",
    "difficulty10 = [data1[0,8],data2[0,8],data3[0,8],data4[0,8],data5[0,8],data6[0,8],data7[0,8],data8[0,8],data9[0,8],data10[0,8]]\n",
    "\n",
    "effort5 = [data1[0,9],data2[0,9],data3[0,9],data4[0,9],data5[0,9]]\n",
    "effort10 = [data1[0,9],data2[0,9],data3[0,9],data4[0,9],data5[0,9],data6[0,9],data7[0,9],data8[0,9],data9[0,9],data10[0,9]]\n"
   ]
  },
  {
   "cell_type": "code",
   "execution_count": 26,
   "metadata": {},
   "outputs": [
    {
     "data": {
      "image/png": "[encoded data removed]",
      "text/plain": [
       "<Figure size 500x400 with 1 Axes>"
      ]
     },
     "metadata": {},
     "output_type": "display_data"
    }
   ],
   "source": [
    "\n",
    "labels = [\"Volume5\",\"Volume10\"]\n",
    "data = [volume5,volume10]\n",
    "# Plotting the box plot with updated labels\n",
    "plt.figure(figsize=(5, 4))\n",
    "plt.boxplot(data, patch_artist=True, notch=False, labels=labels)\n",
    "plt.title(' HAL Volume Score for  Generated Codes')\n",
    "plt.ylabel('Hal Volume Score')\n",
    "plt.grid(True)\n",
    "plt.show()\n"
   ]
  },
  {
   "cell_type": "code",
   "execution_count": 27,
   "metadata": {},
   "outputs": [
    {
     "data": {
      "image/png": "[encoded data removed]",
      "text/plain": [
       "<Figure size 500x400 with 1 Axes>"
      ]
     },
     "metadata": {},
     "output_type": "display_data"
    }
   ],
   "source": [
    "labels = [\"Difficulty5\",\"Difficulty10\"]\n",
    "data = [difficulty5,difficulty10]   \n",
    "# Plotting the box plot with updated labels\n",
    "plt.figure(figsize=(5, 4))\n",
    "plt.boxplot(data, patch_artist=True, notch=False, labels=labels)\n",
    "plt.title(' HAL Difficulty Score for  Generated Codes')\n",
    "plt.ylabel('Hal Difficulty Score')\n",
    "plt.grid(True)\n",
    "plt.show()\n"
   ]
  },
  {
   "cell_type": "code",
   "execution_count": 34,
   "metadata": {},
   "outputs": [
    {
     "data": {
      "image/png": "[encoded data removed]",
      "text/plain": [
       "<Figure size 500x400 with 1 Axes>"
      ]
     },
     "metadata": {},
     "output_type": "display_data"
    }
   ],
   "source": [
    "labels = [\"Effort5\",\"Effort10\"]\n",
    "data = [effort5,effort10]\n",
    "# Plotting the box plot with updated labels\n",
    "plt.figure(figsize=(5, 4))\n",
    "plt.boxplot(data, patch_artist=True, notch=False, labels=labels)\n",
    "plt.title(' HAL Effort Score for  Generated Codes')\n",
    "plt.ylabel('Hal Difficulty Score')\n",
    "plt.grid(True)\n",
    "plt.show()"
   ]
  },
  {
   "cell_type": "code",
   "execution_count": 32,
   "metadata": {},
   "outputs": [
    {
     "name": "stdout",
     "output_type": "stream",
     "text": [
      "[15.509775004326936, 4.754887502163469, 176.41891628622352, 55.506595772116384, 232.64662506490404]\n",
      "[1.0, 0.5, 3.611111111111111, 2.2222222222222223, 5.0]\n",
      "[15.509775004326936, 2.3774437510817346, 637.0683088113627, 123.34799060470309, 1163.2331253245202]\n"
     ]
    }
   ],
   "source": [
    "\n",
    "print(volume5)\n",
    "\n",
    "print(difficulty5)\n",
    "\n",
    "print(effort5)\n",
    "\n"
   ]
  },
  {
   "cell_type": "code",
   "execution_count": 33,
   "metadata": {},
   "outputs": [
    {
     "name": "stdout",
     "output_type": "stream",
     "text": [
      "[15.509775004326936, 4.754887502163469, 176.41891628622352, 55.506595772116384, 232.64662506490404, 15.509775004326936, 4.754887502163469, 142.64662506490407, 99.91187238980949, 99.91187238980949]\n",
      "[1.0, 0.5, 3.611111111111111, 2.2222222222222223, 5.0, 1.0, 0.5, 3.5, 2.7, 2.7]\n",
      "[15.509775004326936, 2.3774437510817346, 637.0683088113627, 123.34799060470309, 1163.2331253245202, 15.509775004326936, 2.3774437510817346, 499.2631877271642, 269.76205545248564, 269.76205545248564]\n"
     ]
    }
   ],
   "source": [
    "print(volume10)\n",
    "print(difficulty10)\n",
    "\n",
    "print(effort10)"
   ]
  }
 ],
 "metadata": {
  "kernelspec": {
   "display_name": "Python 3 (ipykernel)",
   "language": "python",
   "name": "python3"
  },
  "language_info": {
   "codemirror_mode": {
    "name": "ipython",
    "version": 3
   },
   "file_extension": ".py",
   "mimetype": "text/x-python",
   "name": "python",
   "nbconvert_exporter": "python",
   "pygments_lexer": "ipython3",
   "version": "3.11.2"
  }
 },
 "nbformat": 4,
 "nbformat_minor": 2
}
